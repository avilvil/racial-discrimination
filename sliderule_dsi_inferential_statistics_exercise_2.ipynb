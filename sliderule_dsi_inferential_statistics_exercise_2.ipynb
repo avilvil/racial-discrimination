{
 "cells": [
  {
   "cell_type": "markdown",
   "metadata": {},
   "source": [
    "# Examining Racial Discrimination in the US Job Market\n",
    "\n",
    "### Background\n",
    "Racial discrimination continues to be pervasive in cultures throughout the world. Researchers examined the level of racial discrimination in the United States labor market by randomly assigning identical résumés to black-sounding or white-sounding names and observing the impact on requests for interviews from employers.\n",
    "\n",
    "### Data\n",
    "In the dataset provided, each row represents a resume. The 'race' column has two values, 'b' and 'w', indicating black-sounding and white-sounding. The column 'call' has two values, 1 and 0, indicating whether the resume received a call from employers or not.\n",
    "\n",
    "Note that the 'b' and 'w' values in race are assigned randomly to the resumes when presented to the employer."
   ]
  },
  {
   "cell_type": "markdown",
   "metadata": {},
   "source": [
    "### Exercises\n",
    "You will perform a statistical analysis to establish whether race has a significant impact on the rate of callbacks for resumes.\n",
    "\n",
    "Answer the following questions **in this notebook below and submit to your Github account**. \n",
    "\n",
    "   1. What test is appropriate for this problem? Does CLT apply?\n",
    "   2. What are the null and alternate hypotheses?\n",
    "   3. Compute margin of error, confidence interval, and p-value. Try using both the bootstrapping and the frequentist statistical approaches.\n",
    "   4. Write a story describing the statistical significance in the context or the original problem.\n",
    "   5. Does your analysis mean that race/name is the most important factor in callback success? Why or why not? If not, how would you amend your analysis?\n",
    "\n",
    "You can include written notes in notebook cells using Markdown: \n",
    "   - In the control panel at the top, choose Cell > Cell Type > Markdown\n",
    "   - Markdown syntax: http://nestacms.com/docs/creating-content/markdown-cheat-sheet\n",
    "\n",
    "#### Resources\n",
    "+ Experiment information and data source: http://www.povertyactionlab.org/evaluation/discrimination-job-market-united-states\n",
    "+ Scipy statistical methods: http://docs.scipy.org/doc/scipy/reference/stats.html \n",
    "+ Markdown syntax: http://nestacms.com/docs/creating-content/markdown-cheat-sheet\n",
    "+ Formulas for the Bernoulli distribution: https://en.wikipedia.org/wiki/Bernoulli_distribution"
   ]
  },
  {
   "cell_type": "code",
   "execution_count": 1,
   "metadata": {},
   "outputs": [],
   "source": [
    "import pandas as pd\n",
    "import numpy as np\n",
    "from scipy import stats"
   ]
  },
  {
   "cell_type": "code",
   "execution_count": 2,
   "metadata": {},
   "outputs": [],
   "source": [
    "data = pd.io.stata.read_stata('data/us_job_market_discrimination.dta')"
   ]
  },
  {
   "cell_type": "code",
   "execution_count": 3,
   "metadata": {},
   "outputs": [
    {
     "data": {
      "text/plain": [
       "235.0"
      ]
     },
     "execution_count": 3,
     "metadata": {},
     "output_type": "execute_result"
    }
   ],
   "source": [
    "# number of callbacks for white-sounding names\n",
    "sum(data[data.race=='w'].call)"
   ]
  },
  {
   "cell_type": "code",
   "execution_count": 4,
   "metadata": {},
   "outputs": [
    {
     "data": {
      "text/html": [
       "<div>\n",
       "<style scoped>\n",
       "    .dataframe tbody tr th:only-of-type {\n",
       "        vertical-align: middle;\n",
       "    }\n",
       "\n",
       "    .dataframe tbody tr th {\n",
       "        vertical-align: top;\n",
       "    }\n",
       "\n",
       "    .dataframe thead th {\n",
       "        text-align: right;\n",
       "    }\n",
       "</style>\n",
       "<table border=\"1\" class=\"dataframe\">\n",
       "  <thead>\n",
       "    <tr style=\"text-align: right;\">\n",
       "      <th></th>\n",
       "      <th>id</th>\n",
       "      <th>ad</th>\n",
       "      <th>education</th>\n",
       "      <th>ofjobs</th>\n",
       "      <th>yearsexp</th>\n",
       "      <th>honors</th>\n",
       "      <th>volunteer</th>\n",
       "      <th>military</th>\n",
       "      <th>empholes</th>\n",
       "      <th>occupspecific</th>\n",
       "      <th>...</th>\n",
       "      <th>compreq</th>\n",
       "      <th>orgreq</th>\n",
       "      <th>manuf</th>\n",
       "      <th>transcom</th>\n",
       "      <th>bankreal</th>\n",
       "      <th>trade</th>\n",
       "      <th>busservice</th>\n",
       "      <th>othservice</th>\n",
       "      <th>missind</th>\n",
       "      <th>ownership</th>\n",
       "    </tr>\n",
       "  </thead>\n",
       "  <tbody>\n",
       "    <tr>\n",
       "      <th>0</th>\n",
       "      <td>b</td>\n",
       "      <td>1</td>\n",
       "      <td>4</td>\n",
       "      <td>2</td>\n",
       "      <td>6</td>\n",
       "      <td>0</td>\n",
       "      <td>0</td>\n",
       "      <td>0</td>\n",
       "      <td>1</td>\n",
       "      <td>17</td>\n",
       "      <td>...</td>\n",
       "      <td>1.0</td>\n",
       "      <td>0.0</td>\n",
       "      <td>1.0</td>\n",
       "      <td>0.0</td>\n",
       "      <td>0.0</td>\n",
       "      <td>0.0</td>\n",
       "      <td>0.0</td>\n",
       "      <td>0.0</td>\n",
       "      <td>0.0</td>\n",
       "      <td></td>\n",
       "    </tr>\n",
       "    <tr>\n",
       "      <th>1</th>\n",
       "      <td>b</td>\n",
       "      <td>1</td>\n",
       "      <td>3</td>\n",
       "      <td>3</td>\n",
       "      <td>6</td>\n",
       "      <td>0</td>\n",
       "      <td>1</td>\n",
       "      <td>1</td>\n",
       "      <td>0</td>\n",
       "      <td>316</td>\n",
       "      <td>...</td>\n",
       "      <td>1.0</td>\n",
       "      <td>0.0</td>\n",
       "      <td>1.0</td>\n",
       "      <td>0.0</td>\n",
       "      <td>0.0</td>\n",
       "      <td>0.0</td>\n",
       "      <td>0.0</td>\n",
       "      <td>0.0</td>\n",
       "      <td>0.0</td>\n",
       "      <td></td>\n",
       "    </tr>\n",
       "    <tr>\n",
       "      <th>2</th>\n",
       "      <td>b</td>\n",
       "      <td>1</td>\n",
       "      <td>4</td>\n",
       "      <td>1</td>\n",
       "      <td>6</td>\n",
       "      <td>0</td>\n",
       "      <td>0</td>\n",
       "      <td>0</td>\n",
       "      <td>0</td>\n",
       "      <td>19</td>\n",
       "      <td>...</td>\n",
       "      <td>1.0</td>\n",
       "      <td>0.0</td>\n",
       "      <td>1.0</td>\n",
       "      <td>0.0</td>\n",
       "      <td>0.0</td>\n",
       "      <td>0.0</td>\n",
       "      <td>0.0</td>\n",
       "      <td>0.0</td>\n",
       "      <td>0.0</td>\n",
       "      <td></td>\n",
       "    </tr>\n",
       "    <tr>\n",
       "      <th>3</th>\n",
       "      <td>b</td>\n",
       "      <td>1</td>\n",
       "      <td>3</td>\n",
       "      <td>4</td>\n",
       "      <td>6</td>\n",
       "      <td>0</td>\n",
       "      <td>1</td>\n",
       "      <td>0</td>\n",
       "      <td>1</td>\n",
       "      <td>313</td>\n",
       "      <td>...</td>\n",
       "      <td>1.0</td>\n",
       "      <td>0.0</td>\n",
       "      <td>1.0</td>\n",
       "      <td>0.0</td>\n",
       "      <td>0.0</td>\n",
       "      <td>0.0</td>\n",
       "      <td>0.0</td>\n",
       "      <td>0.0</td>\n",
       "      <td>0.0</td>\n",
       "      <td></td>\n",
       "    </tr>\n",
       "    <tr>\n",
       "      <th>4</th>\n",
       "      <td>b</td>\n",
       "      <td>1</td>\n",
       "      <td>3</td>\n",
       "      <td>3</td>\n",
       "      <td>22</td>\n",
       "      <td>0</td>\n",
       "      <td>0</td>\n",
       "      <td>0</td>\n",
       "      <td>0</td>\n",
       "      <td>313</td>\n",
       "      <td>...</td>\n",
       "      <td>1.0</td>\n",
       "      <td>1.0</td>\n",
       "      <td>0.0</td>\n",
       "      <td>0.0</td>\n",
       "      <td>0.0</td>\n",
       "      <td>0.0</td>\n",
       "      <td>0.0</td>\n",
       "      <td>1.0</td>\n",
       "      <td>0.0</td>\n",
       "      <td>Nonprofit</td>\n",
       "    </tr>\n",
       "  </tbody>\n",
       "</table>\n",
       "<p>5 rows × 65 columns</p>\n",
       "</div>"
      ],
      "text/plain": [
       "  id ad  education  ofjobs  yearsexp  honors  volunteer  military  empholes  \\\n",
       "0  b  1          4       2         6       0          0         0         1   \n",
       "1  b  1          3       3         6       0          1         1         0   \n",
       "2  b  1          4       1         6       0          0         0         0   \n",
       "3  b  1          3       4         6       0          1         0         1   \n",
       "4  b  1          3       3        22       0          0         0         0   \n",
       "\n",
       "   occupspecific    ...      compreq  orgreq  manuf  transcom  bankreal trade  \\\n",
       "0             17    ...          1.0     0.0    1.0       0.0       0.0   0.0   \n",
       "1            316    ...          1.0     0.0    1.0       0.0       0.0   0.0   \n",
       "2             19    ...          1.0     0.0    1.0       0.0       0.0   0.0   \n",
       "3            313    ...          1.0     0.0    1.0       0.0       0.0   0.0   \n",
       "4            313    ...          1.0     1.0    0.0       0.0       0.0   0.0   \n",
       "\n",
       "  busservice othservice  missind  ownership  \n",
       "0        0.0        0.0      0.0             \n",
       "1        0.0        0.0      0.0             \n",
       "2        0.0        0.0      0.0             \n",
       "3        0.0        0.0      0.0             \n",
       "4        0.0        1.0      0.0  Nonprofit  \n",
       "\n",
       "[5 rows x 65 columns]"
      ]
     },
     "execution_count": 4,
     "metadata": {},
     "output_type": "execute_result"
    }
   ],
   "source": [
    "data.head()"
   ]
  },
  {
   "cell_type": "code",
   "execution_count": 6,
   "metadata": {},
   "outputs": [
    {
     "name": "stdout",
     "output_type": "stream",
     "text": [
      "Number of samples for white-sounding names:  2435\n",
      "Number of samples for black-sounding names:  2435\n"
     ]
    }
   ],
   "source": [
    "#Number of samples for white-sounding names\n",
    "w_len=len(data[data.race=='w'])\n",
    "\n",
    "#Number of samples for black-sounding names\n",
    "b_len=len(data[data.race=='b'])\n",
    "\n",
    "print('Number of samples for white-sounding names: ',w_len)\n",
    "print('Number of samples for black-sounding names: ',b_len)"
   ]
  },
  {
   "cell_type": "markdown",
   "metadata": {
    "collapsed": true
   },
   "source": [
    "<h3>Question 1</h3>\n",
    "\n",
    "What test is appropriate for this problem? Does CLT apply?\n",
    "\n",
    "- Since we have 2 data samples, a permutation test will provide more accurate results than a bootstrap test and it is the appropiate to use in this case.\n",
    "- Since each sample has 2435 observations and the race values are assigned randomly to the resumes when presented to the employer, the CLT applies. The sample is large enough.\n",
    "\n",
    "<h3>Question 2</h3>\n",
    "\n",
    "What are the null and alternate hypotheses?\n",
    "\n",
    "- The null hypothesis: the callback rate for white people is the same as for black people\n",
    "- The alternate hypothesis: the callback rate for while people and black people is different.\n",
    "\n",
    "H0: pw=pb versus Ha: pw≠pb\n",
    "\n",
    "Where p is the probability of success or callback rate.\n",
    "\n",
    "The statistic is the difference in callback rates between both samples."
   ]
  },
  {
   "cell_type": "code",
   "execution_count": 7,
   "metadata": {},
   "outputs": [],
   "source": [
    "w = data[data.race=='w']\n",
    "b = data[data.race=='b']"
   ]
  },
  {
   "cell_type": "markdown",
   "metadata": {},
   "source": [
    "<h3>Question 3</h3>"
   ]
  },
  {
   "cell_type": "code",
   "execution_count": 8,
   "metadata": {},
   "outputs": [],
   "source": [
    "#Function that generates many bootstrap replicates from a data set\n",
    "def draw_bs_reps(data, func, reps=1):\n",
    "    \n",
    "    # Initialize array of replicates: bs_replicates\n",
    "    bs_replicates=np.empty(reps)\n",
    "    \n",
    "    # Generate replicates\n",
    "    for i in range(reps):\n",
    "        bs_replicates[i]=func(np.random.choice(data, size=len(data)))\n",
    "        \n",
    "    return bs_replicates\n",
    "\n",
    "def callback_p(data):\n",
    "    return np.sum(data)/len(data)"
   ]
  },
  {
   "cell_type": "code",
   "execution_count": 9,
   "metadata": {},
   "outputs": [],
   "source": [
    "#Generate bootstrap replicates of white-sounding calls\n",
    "bs_reps_w=draw_bs_reps(w.call,callback_p,reps=10000)\n",
    "\n",
    "#Generate bootstrap replicates of black-sounding calls\n",
    "bs_reps_b=draw_bs_reps(b.call,callback_p,reps=10000)"
   ]
  },
  {
   "cell_type": "code",
   "execution_count": 10,
   "metadata": {},
   "outputs": [
    {
     "name": "stdout",
     "output_type": "stream",
     "text": [
      "Callback rate 95% confidence interval of white-sounding names:  [0.08501027 0.10841889]\n",
      "Callback rate 95% confidence interval of black-sounding names:  [0.0550308  0.07433265]\n"
     ]
    }
   ],
   "source": [
    "#Confidence interval of white-sounding replicates\n",
    "ci_bs_reps_w=np.percentile(bs_reps_w,[2.5,97.5])\n",
    "print('Callback rate 95% confidence interval of white-sounding names: ', ci_bs_reps_w)\n",
    "\n",
    "#Confidence interval of black-sounding replicates\n",
    "ci_bs_reps_b=np.percentile(bs_reps_b,[2.5,97.5])\n",
    "print('Callback rate 95% confidence interval of black-sounding names: ', ci_bs_reps_b)"
   ]
  },
  {
   "cell_type": "markdown",
   "metadata": {},
   "source": [
    "Since the lower limit of the white-sounding names is higher than the upper limit of the black-sounding names, there is no overlap of the confidence intervals and therefore we reject the null hypothesis."
   ]
  },
  {
   "cell_type": "code",
   "execution_count": 11,
   "metadata": {},
   "outputs": [
    {
     "name": "stdout",
     "output_type": "stream",
     "text": [
      "p-value:  1.0\n"
     ]
    }
   ],
   "source": [
    "#Compute differences in callback rates from the bs replicates\n",
    "diff_of_callback_rates=ci_bs_reps_w-ci_bs_reps_b\n",
    "\n",
    "#Compute p_value\n",
    "p_value=np.sum(diff_of_callback_rates>=0)/len(diff_of_callback_rates)\n",
    "print('p-value: ',p_value)"
   ]
  },
  {
   "cell_type": "markdown",
   "metadata": {},
   "source": [
    "In all of the cases the difference between callback rates was above 0, therefore the null hypothesis is rejected. This very high p value suggests  that the white-sounding names have a higher callback rate."
   ]
  },
  {
   "cell_type": "code",
   "execution_count": 12,
   "metadata": {},
   "outputs": [
    {
     "name": "stdout",
     "output_type": "stream",
     "text": [
      "callback rate w:  0.09650924024640657\n",
      "callback rate b:  0.06447638603696099\n",
      "SE callback rate w:  0.005984072178128066\n",
      "SE callback rate b:  0.004977121442811946\n"
     ]
    }
   ],
   "source": [
    "#Estimation of mean callrate for white and black samples\n",
    "p_w=np.sum(w.call)/len(w.call)\n",
    "p_b=np.sum(b.call)/len(b.call)\n",
    "\n",
    "#Compute SE\n",
    "SE_w=np.sqrt(p_w*(1-p_w)/w_len)\n",
    "SE_b=np.sqrt(p_b*(1-p_b)/b_len)\n",
    "\n",
    "print('callback rate w: ',p_w)\n",
    "print('callback rate b: ',p_b)\n",
    "print('SE callback rate w: ',SE_w)\n",
    "print('SE callback rate b: ',SE_b)"
   ]
  },
  {
   "cell_type": "markdown",
   "metadata": {},
   "source": [
    "In order to use z-score to compute the margin of error we need first to check the following conditions for both samples:\n",
    "    - np>=10\n",
    "    - n(1-p)>=10"
   ]
  },
  {
   "cell_type": "code",
   "execution_count": 13,
   "metadata": {},
   "outputs": [
    {
     "name": "stdout",
     "output_type": "stream",
     "text": [
      "[235.0, 2200.0, 157.0, 2278.0]\n"
     ]
    }
   ],
   "source": [
    "#Check both samples meet the conditions\n",
    "values=[len(w)*p_w, len(w)*(1-p_w), len(b)*p_b, len(b)*(1-p_b)]\n",
    "print(values)"
   ]
  },
  {
   "cell_type": "code",
   "execution_count": 14,
   "metadata": {},
   "outputs": [
    {
     "name": "stdout",
     "output_type": "stream",
     "text": [
      "Margin of error w:  0.011728565950019164\n",
      "Margin of error b:  0.009754978774593444\n",
      "Confidence interval w:  [0.08478067429638741, 0.10823780619642573]\n",
      "Confidence interval b:  [0.054721407262367544, 0.07423136481155443]\n"
     ]
    }
   ],
   "source": [
    "#Compute z_score for a 95% confidence level\n",
    "z_score_95=stats.norm.ppf(0.975)\n",
    "\n",
    "#Compute margins of error\n",
    "ME_w=z_score_95*SE_w\n",
    "ME_b=z_score_95*SE_b\n",
    "\n",
    "#Print margins of error\n",
    "print('Margin of error w: ',ME_w)\n",
    "print('Margin of error b: ',ME_b)\n",
    "\n",
    "#Compute confidence intervals\n",
    "CI_w=[p_w-ME_w,p_w+ME_w]\n",
    "CI_b=[p_b-ME_b,p_b+ME_b]\n",
    "\n",
    "#Print confidence intervals\n",
    "print('Confidence interval w: ',CI_w)\n",
    "print('Confidence interval b: ',CI_b)"
   ]
  },
  {
   "cell_type": "markdown",
   "metadata": {},
   "source": [
    "We reach to the same conclusion as in the bootstrap method.\n",
    "\n",
    "\n",
    "Since the lower limit of the white-sounding names is higher than the upper limit of the black-sounding names, there is no overlap of the confidence intervals and therefore we reject the null hypothesis at a 95% confidence level."
   ]
  },
  {
   "cell_type": "code",
   "execution_count": 15,
   "metadata": {},
   "outputs": [
    {
     "name": "stdout",
     "output_type": "stream",
     "text": [
      "z-score:  4.11555043573\n",
      "p-value:  3.862565207522622e-05\n"
     ]
    }
   ],
   "source": [
    "#Compute z_score\n",
    "z_score=(p_w-p_b)/np.sqrt(SE_w**2+SE_b**2)\n",
    "print('z-score: ',z_score)\n",
    "\n",
    "#Compute p_value based on z_score\n",
    "p_value=stats.norm.sf(abs(z_score))*2\n",
    "print('p-value: ',p_value)"
   ]
  },
  {
   "cell_type": "markdown",
   "metadata": {},
   "source": [
    "The probability of finding a value as extreme as we found for the z-score is really small, therefore we reject the null hypothesis. The callback rates for black and white-sounding names is diffirent."
   ]
  },
  {
   "cell_type": "markdown",
   "metadata": {
    "collapsed": true
   },
   "source": [
    "<h3>Question 4</h3>\n",
    "\n",
    "In this dataset we have analyzed the differences in calls received by resumes where the employer could distinguish by the name if it was a black or a white person applying for the job position.  \n",
    "\n",
    "The process of generating the data ensured that for each job position application, two high- and two low-quality resumes were sent. Higher quality resumes were including things like special honors, employement experience, extra computer skills, or volunteering experience for example.\n",
    "\n",
    "The hypothesis of the statistical test is that both callback rates are the same and therefore there is no racial discrimination. We have found a very small p-value (3.8E-5). Based on this result, we reject the null hypothesis and conclude that there is a big probability of having racial discrimitation between white and black people. "
   ]
  },
  {
   "cell_type": "markdown",
   "metadata": {},
   "source": [
    "<h3>Question 5</h3>\n",
    "\n",
    "#### Does your analysis mean that race/name is the most important factor in callback success? Why or why not? If not, how would you amend your analysis?\n",
    "\n",
    "Our analysis points out the differences in callback success based on the race factor. There are other factors such as years of experience, education or honors that can determine whether a person would receive a call or not. Our analysis does not evaluate if the main factor for callback success is race/name.\n",
    "\n",
    "It is very possible that people with higher experience receive more calls. If we want to determine how other factors affect callback success we would have to evaluate profiles from the same race, since we have already proven that race has an impact in callback success.\n",
    "\n",
    "There is no need to amend our analysis for the purpose of evaluating race discrimination. As mentioned before, for each job position four resumes were sent in total:\n",
    "\n",
    "- 1 white-sounding name, high-quality resume\n",
    "- 1 black-sounding name, high-quality resume\n",
    "- 1 white-sounding name, low-quality resume\n",
    "- 1 black-sounding name, low-quality resume"
   ]
  },
  {
   "cell_type": "code",
   "execution_count": null,
   "metadata": {},
   "outputs": [],
   "source": []
  }
 ],
 "metadata": {
  "kernelspec": {
   "display_name": "Python 3",
   "language": "python",
   "name": "python3"
  },
  "language_info": {
   "codemirror_mode": {
    "name": "ipython",
    "version": 3
   },
   "file_extension": ".py",
   "mimetype": "text/x-python",
   "name": "python",
   "nbconvert_exporter": "python",
   "pygments_lexer": "ipython3",
   "version": "3.6.5"
  }
 },
 "nbformat": 4,
 "nbformat_minor": 1
}
